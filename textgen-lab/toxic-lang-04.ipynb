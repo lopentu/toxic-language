{
 "cells": [
  {
   "cell_type": "code",
   "execution_count": 1,
   "metadata": {},
   "outputs": [],
   "source": [
    "%load_ext autoreload\n",
    "%autoreload 2\n",
    "%matplotlib inline"
   ]
  },
  {
   "cell_type": "code",
   "execution_count": 2,
   "metadata": {},
   "outputs": [],
   "source": [
    "import sys\n",
    "sys.path.append(\"../\")"
   ]
  },
  {
   "cell_type": "code",
   "execution_count": 3,
   "metadata": {},
   "outputs": [],
   "source": [
    "import pickle\n",
    "import numpy as np\n",
    "import pandas as pd\n",
    "from tqdm import tqdm_notebook as tqdm\n",
    "import jieba"
   ]
  },
  {
   "cell_type": "code",
   "execution_count": 4,
   "metadata": {},
   "outputs": [],
   "source": [
    "import textsim"
   ]
  },
  {
   "cell_type": "code",
   "execution_count": 5,
   "metadata": {},
   "outputs": [],
   "source": [
    "comments_path = textsim.get_resource_path(\"toxicity-data-merged-comments-05251530.csv\")\n",
    "comments = pd.read_csv(comments_path, index_col=0)\n",
    "posts_path = textsim.get_resource_path(\"toxicity-data-merged-posts-05251530.csv\")\n",
    "posts = pd.read_csv(posts_path, index_col=0)"
   ]
  },
  {
   "cell_type": "markdown",
   "metadata": {},
   "source": [
    "## remove all posts does not have comments"
   ]
  },
  {
   "cell_type": "code",
   "execution_count": 6,
   "metadata": {},
   "outputs": [
    {
     "data": {
      "text/html": [
       "<div>\n",
       "<style scoped>\n",
       "    .dataframe tbody tr th:only-of-type {\n",
       "        vertical-align: middle;\n",
       "    }\n",
       "\n",
       "    .dataframe tbody tr th {\n",
       "        vertical-align: top;\n",
       "    }\n",
       "\n",
       "    .dataframe thead th {\n",
       "        text-align: right;\n",
       "    }\n",
       "</style>\n",
       "<table border=\"1\" class=\"dataframe\">\n",
       "  <thead>\n",
       "    <tr style=\"text-align: right;\">\n",
       "      <th></th>\n",
       "      <th>TextContent</th>\n",
       "      <th>TextDate</th>\n",
       "      <th>TextSrc</th>\n",
       "      <th>TextTitle</th>\n",
       "      <th>TextUrl</th>\n",
       "      <th>Toxicity</th>\n",
       "    </tr>\n",
       "    <tr>\n",
       "      <th>TextId</th>\n",
       "      <th></th>\n",
       "      <th></th>\n",
       "      <th></th>\n",
       "      <th></th>\n",
       "      <th></th>\n",
       "      <th></th>\n",
       "    </tr>\n",
       "  </thead>\n",
       "  <tbody>\n",
       "    <tr>\n",
       "      <th>Jessy001</th>\n",
       "      <td>蔡英文總統今天參訪位於台中港二號碼頭的「海洋示範風場」，稍早她透過臉書提問「你們知道風機葉片...</td>\n",
       "      <td>20190523</td>\n",
       "      <td>udn</td>\n",
       "      <td>風機葉片就是證據 蔡英文：民進黨比國民黨更會建設\\n</td>\n",
       "      <td>https://udn.com/news/story/6656/3830874</td>\n",
       "      <td>NaN</td>\n",
       "    </tr>\n",
       "    <tr>\n",
       "      <th>Jessy002</th>\n",
       "      <td>昨（20）日是蔡英文2016年上任以來，執政期滿3年，明年台灣將舉行總統大選，受到17日立法...</td>\n",
       "      <td>20190521</td>\n",
       "      <td>udn</td>\n",
       "      <td>綠委助陣 一張圖全解「蔡英文執政三年做了啥」</td>\n",
       "      <td>https://udn.com/news/story/120489/3825878</td>\n",
       "      <td>NaN</td>\n",
       "    </tr>\n",
       "    <tr>\n",
       "      <th>Jessy003</th>\n",
       "      <td>行政院前院長賴清德日前提及他跟蔡英文總統的三個不同，蔡英文昨天接受廣播節目「POP大國民」專...</td>\n",
       "      <td>20190522</td>\n",
       "      <td>udn</td>\n",
       "      <td>蔡英文：我做總統比較有經驗</td>\n",
       "      <td>https://udn.com/news/story/11311/3826839</td>\n",
       "      <td>NaN</td>\n",
       "    </tr>\n",
       "    <tr>\n",
       "      <th>Jessy004</th>\n",
       "      <td>對於總統蔡英文就職三周年的演說，主打MIT upgrade，並說兩岸外交很好，郭台銘反問媒體...</td>\n",
       "      <td>20190520</td>\n",
       "      <td>udn</td>\n",
       "      <td>蔡英文就職3周年 郭台銘：就是她「做衰」台灣</td>\n",
       "      <td>https://udn.com/news/story/6656/3823470</td>\n",
       "      <td>NaN</td>\n",
       "    </tr>\n",
       "    <tr>\n",
       "      <th>Jessy005</th>\n",
       "      <td>《ETtoday新聞雲》昨公布「蔡英文施政滿意度調查」結果，對於蔡總統整體施政滿意度，34....</td>\n",
       "      <td>20190524</td>\n",
       "      <td>udn</td>\n",
       "      <td>蔡英文施政滿意度34.9％ 減稅58.3％最有感</td>\n",
       "      <td>https://udn.com/news/story/6656/3831417</td>\n",
       "      <td>NaN</td>\n",
       "    </tr>\n",
       "  </tbody>\n",
       "</table>\n",
       "</div>"
      ],
      "text/plain": [
       "                                                TextContent  TextDate TextSrc  \\\n",
       "TextId                                                                          \n",
       "Jessy001  蔡英文總統今天參訪位於台中港二號碼頭的「海洋示範風場」，稍早她透過臉書提問「你們知道風機葉片...  20190523     udn   \n",
       "Jessy002  昨（20）日是蔡英文2016年上任以來，執政期滿3年，明年台灣將舉行總統大選，受到17日立法...  20190521     udn   \n",
       "Jessy003  行政院前院長賴清德日前提及他跟蔡英文總統的三個不同，蔡英文昨天接受廣播節目「POP大國民」專...  20190522     udn   \n",
       "Jessy004  對於總統蔡英文就職三周年的演說，主打MIT upgrade，並說兩岸外交很好，郭台銘反問媒體...  20190520     udn   \n",
       "Jessy005  《ETtoday新聞雲》昨公布「蔡英文施政滿意度調查」結果，對於蔡總統整體施政滿意度，34....  20190524     udn   \n",
       "\n",
       "                           TextTitle  \\\n",
       "TextId                                 \n",
       "Jessy001  風機葉片就是證據 蔡英文：民進黨比國民黨更會建設\\n   \n",
       "Jessy002      綠委助陣 一張圖全解「蔡英文執政三年做了啥」   \n",
       "Jessy003               蔡英文：我做總統比較有經驗   \n",
       "Jessy004      蔡英文就職3周年 郭台銘：就是她「做衰」台灣   \n",
       "Jessy005    蔡英文施政滿意度34.9％ 減稅58.3％最有感   \n",
       "\n",
       "                                            TextUrl  Toxicity  \n",
       "TextId                                                         \n",
       "Jessy001    https://udn.com/news/story/6656/3830874       NaN  \n",
       "Jessy002  https://udn.com/news/story/120489/3825878       NaN  \n",
       "Jessy003   https://udn.com/news/story/11311/3826839       NaN  \n",
       "Jessy004    https://udn.com/news/story/6656/3823470       NaN  \n",
       "Jessy005    https://udn.com/news/story/6656/3831417       NaN  "
      ]
     },
     "execution_count": 6,
     "metadata": {},
     "output_type": "execute_result"
    }
   ],
   "source": [
    "posts.head()"
   ]
  },
  {
   "cell_type": "code",
   "execution_count": 7,
   "metadata": {},
   "outputs": [],
   "source": [
    "comments_textids = set(comments.TextId.tolist())\n",
    "posts[\"TextId\"] = posts.index\n",
    "posts = posts.loc[posts.TextId.apply(lambda x: x in comments_textids), :]"
   ]
  },
  {
   "cell_type": "code",
   "execution_count": 8,
   "metadata": {},
   "outputs": [],
   "source": [
    "posts_ids = posts.TextId.tolist()\n",
    "posts_texts = posts.TextContent"
   ]
  },
  {
   "cell_type": "markdown",
   "metadata": {},
   "source": [
    "## Data preparation"
   ]
  },
  {
   "cell_type": "code",
   "execution_count": 9,
   "metadata": {},
   "outputs": [],
   "source": [
    "posts_comments = {}\n",
    "for k, g in comments.groupby('TextId'):\n",
    "    posts_comments[k] = [x.replace(\"\\\\\", \"\") for x in g.CommentContent.tolist()]\n",
    "\n",
    "posts_comments_path = textsim.get_data_path(\"text_materials.pkl\")\n",
    "with open(posts_comments_path, \"wb\") as fout:\n",
    "    pickle.dump((posts_ids, posts_comments), fout)"
   ]
  },
  {
   "cell_type": "code",
   "execution_count": 10,
   "metadata": {},
   "outputs": [
    {
     "data": {
      "text/plain": [
       "('Jessy001', ['花大錢，當凱子的證據嗎？', '我只看到菜皇比國民黨更會灑大錢~'])"
      ]
     },
     "execution_count": 10,
     "metadata": {},
     "output_type": "execute_result"
    }
   ],
   "source": [
    "next(iter(posts_comments.items()))"
   ]
  },
  {
   "cell_type": "code",
   "execution_count": 11,
   "metadata": {},
   "outputs": [
    {
     "name": "stderr",
     "output_type": "stream",
     "text": [
      "Building prefix dict from the default dictionary ...\n",
      "Loading model from cache C:\\Users\\seantyh\\AppData\\Local\\Temp\\jieba.cache\n",
      "Loading model cost 0.646 seconds.\n",
      "Prefix dict has been built succesfully.\n"
     ]
    }
   ],
   "source": [
    "posts_tokens = [\" \".join(jieba.lcut(x)) for x in posts_texts]"
   ]
  },
  {
   "cell_type": "code",
   "execution_count": 12,
   "metadata": {},
   "outputs": [],
   "source": [
    "from sklearn.feature_extraction.text import TfidfVectorizer"
   ]
  },
  {
   "cell_type": "code",
   "execution_count": 13,
   "metadata": {},
   "outputs": [],
   "source": [
    "def identity_func(x):\n",
    "    return x\n",
    "tfidf = TfidfVectorizer(min_df=3, max_df=0.8)\n",
    "M = tfidf.fit_transform(posts_tokens)\n",
    "tfidf_path = textsim.get_data_path(\"tfidf.pkl\")\n",
    "with open(tfidf_path, \"wb\") as fout:\n",
    "    pickle.dump(tfidf, fout)"
   ]
  },
  {
   "cell_type": "code",
   "execution_count": 14,
   "metadata": {},
   "outputs": [
    {
     "data": {
      "text/plain": [
       "(51, 575)"
      ]
     },
     "execution_count": 14,
     "metadata": {},
     "output_type": "execute_result"
    }
   ],
   "source": [
    "M.shape"
   ]
  },
  {
   "cell_type": "code",
   "execution_count": 15,
   "metadata": {},
   "outputs": [],
   "source": [
    "from scipy.sparse.linalg import svds"
   ]
  },
  {
   "cell_type": "code",
   "execution_count": 16,
   "metadata": {},
   "outputs": [],
   "source": [
    "u, s, vt = svds(M, k=10)\n",
    "u_norm = u / np.expand_dims(np.sqrt(np.diag(np.dot(u, u.transpose()))), 1)\n",
    "svd_path = textsim.get_data_path(\"svd.pkl\")\n",
    "with open(svd_path, \"wb\") as fout:\n",
    "    pickle.dump((u_norm, s, vt), fout)"
   ]
  },
  {
   "cell_type": "markdown",
   "metadata": {},
   "source": [
    "## Test SimilarComments object"
   ]
  },
  {
   "cell_type": "code",
   "execution_count": 17,
   "metadata": {},
   "outputs": [],
   "source": [
    "from textsim import SimilarComments"
   ]
  },
  {
   "cell_type": "code",
   "execution_count": 18,
   "metadata": {},
   "outputs": [],
   "source": [
    "intext = \"\"\"「政黨存在的價值，就是透過選舉贏得政權。」若從這個普遍被接受的邏輯出發，民進黨初選的「英德內戰」，完全可以理解，唯一的「誤會」是，他們認定只有自己才可以為所屬政黨贏得政權的推論基礎，未必是事實；同樣的，高雄市長韓國瑜才當選就卯足全勁拚總統大選，立論於只有他可以為國民黨贏得政權，亦未必是事實，還有一舉雙殺總統與高雄市長的風險。\n",
    "\"\"\""
   ]
  },
  {
   "cell_type": "code",
   "execution_count": 19,
   "metadata": {},
   "outputs": [],
   "source": [
    "intext2 = \"\"\"高雄市長韓國瑜首場總統初選造勢「決戰2020．贏回台灣」，將在6月1日總統府前凱達格蘭大道舉行，讓各地韓粉相當興奮。國民黨籍台北市議員王鴻薇認為，韓國瑜現在可能面臨要選2020前的最低潮時刻，若是能撐過這波谷底的低潮，就真的會是一員強將了。\n",
    "\n",
    "韓國瑜鬆口願角逐2020後，近期就傳出中部韓粉準備在6月22日在台中舉辦挺韓大會；在此之前，因韓流快速擴張，首場韓國瑜初選大造勢已敲定6月1日登場，且定名為「決戰2020．贏回台灣」。\n",
    "\n",
    "據中評社報導，王鴻薇提及，韓國瑜之前在市議會質詢、表態參選2020，遭民眾質疑誠信與正當性，加上網路一片黑函情況下，韓好像做什麼都錯，跟選前差別非常大。她指出，網路上韓國瑜的消息十之八九都是負面的，原因就在2018選前只有民進黨的攻擊，但在黨內初選階段，則多了黨內派系的攻擊。\n",
    "\"\"\""
   ]
  },
  {
   "cell_type": "code",
   "execution_count": 20,
   "metadata": {},
   "outputs": [],
   "source": [
    "sim_comm = SimilarComments()"
   ]
  },
  {
   "cell_type": "code",
   "execution_count": 21,
   "metadata": {},
   "outputs": [
    {
     "data": {
      "text/plain": [
       "['2020剿滅民進黨這個土匪窩和空心菜這隻妖孽',\n",
       " '而蔡慰安婦才是真正讓台灣政治經濟衰敗的罪魁禍首。',\n",
       " '有什麼經驗?我們看到的是有做得很爛的徑驗,所以要把她下架. ',\n",
       " '她看起來變成一個充滿意識形態又頑固的女人,又有點無知和鴕鳥的心態.畢竟有的人老了就會變成這樣的人. ',\n",
       " '蔡英文實在不配稱民主!',\n",
       " '竟敢自比做總統最有經驗？ \\r\\n除了二蔣外目前就是李登輝最有經驗了，要不要請最有當總統經驗的李登輝回來當總統？',\n",
       " '你又崩潰了？ \\r\\n笑死人！你們無恥綠膿包怎麼永遠的兩套標準？ \\r\\n^_^ ',\n",
       " '最沒信用的破麻有什麼好講的,明年讓這破麻下台最重要. ',\n",
       " '蔡英文是一個極權女人，只愛權力，吃勞工青年人豆腐。']"
      ]
     },
     "execution_count": 21,
     "metadata": {},
     "output_type": "execute_result"
    }
   ],
   "source": [
    "sim_comm.comments(intext)"
   ]
  },
  {
   "cell_type": "code",
   "execution_count": 22,
   "metadata": {},
   "outputs": [
    {
     "data": {
      "text/plain": [
       "['英皇震怒 : 怎麼可能 我應該比姚文智92%還要強才對啊',\n",
       " '最沒信用的破麻有什麼好講的,明年讓這破麻下台最重要. ',\n",
       " '皇民文化官員把訊息告訴日本算不算犯罪?比照綠黨對大陸, 高官卸任請六年不得訪日. 日本侵占台灣海權魚權....',\n",
       " '聲望剩下18%還可以趴趴走，厲害了蔡女皇',\n",
       " '她看起來變成一個充滿意識形態又頑固的女人,又有點無知和鴕鳥的心態.畢竟有的人老了就會變成這樣的人. ',\n",
       " '而蔡慰安婦才是真正讓台灣政治經濟衰敗的罪魁禍首。',\n",
       " '是呀，因為真的跟一般人理解剛好相反，她的腦袋長在屁股上……',\n",
       " '你又崩潰了？ \\r\\n笑死人！你們無恥綠膿包怎麼永遠的兩套標準？ \\r\\n^_^ ',\n",
       " '東廠各廠公開會，商議如何陷害忠良，把台灣出賣給美國日本，讓台灣人世世代代為奴。',\n",
       " '繼續挑釁中共，等待事發，宣佈戒嚴，總統任期無限']"
      ]
     },
     "execution_count": 22,
     "metadata": {},
     "output_type": "execute_result"
    }
   ],
   "source": [
    "sim_comm.comments(intext2)"
   ]
  },
  {
   "cell_type": "code",
   "execution_count": null,
   "metadata": {},
   "outputs": [],
   "source": []
  }
 ],
 "metadata": {
  "kernelspec": {
   "display_name": "Python 3",
   "language": "python",
   "name": "python3"
  },
  "language_info": {
   "codemirror_mode": {
    "name": "ipython",
    "version": 3
   },
   "file_extension": ".py",
   "mimetype": "text/x-python",
   "name": "python",
   "nbconvert_exporter": "python",
   "pygments_lexer": "ipython3",
   "version": "3.7.2"
  }
 },
 "nbformat": 4,
 "nbformat_minor": 2
}
