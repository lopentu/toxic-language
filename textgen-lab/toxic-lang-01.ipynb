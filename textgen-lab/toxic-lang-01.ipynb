{
 "cells": [
  {
   "cell_type": "code",
   "execution_count": 1,
   "metadata": {},
   "outputs": [],
   "source": [
    "%load_ext autoreload\n",
    "%autoreload 2\n",
    "%matplotlib inline"
   ]
  },
  {
   "cell_type": "code",
   "execution_count": 2,
   "metadata": {},
   "outputs": [],
   "source": [
    "import sys\n",
    "sys.path.append(\"../\")"
   ]
  },
  {
   "cell_type": "code",
   "execution_count": 11,
   "metadata": {},
   "outputs": [],
   "source": [
    "import pickle\n",
    "import numpy as np\n",
    "import pandas as pd\n",
    "from tqdm import tqdm_notebook as tqdm"
   ]
  },
  {
   "cell_type": "code",
   "execution_count": 4,
   "metadata": {},
   "outputs": [],
   "source": [
    "import textgen"
   ]
  },
  {
   "cell_type": "code",
   "execution_count": 5,
   "metadata": {},
   "outputs": [],
   "source": [
    "comments_path = textgen.get_resource_path(\"toxicity-data-merged-comments-05251530.csv\")\n",
    "comments = pd.read_csv(comments_path, index_col=0)"
   ]
  },
  {
   "cell_type": "code",
   "execution_count": 6,
   "metadata": {},
   "outputs": [],
   "source": [
    "posts_path = textgen.get_resource_path(\"toxicity-data-merged-posts-05251530.csv\")\n",
    "posts = pd.read_csv(posts_path, index_col=0)"
   ]
  },
  {
   "cell_type": "code",
   "execution_count": 7,
   "metadata": {},
   "outputs": [
    {
     "data": {
      "text/html": [
       "<div>\n",
       "<style scoped>\n",
       "    .dataframe tbody tr th:only-of-type {\n",
       "        vertical-align: middle;\n",
       "    }\n",
       "\n",
       "    .dataframe tbody tr th {\n",
       "        vertical-align: top;\n",
       "    }\n",
       "\n",
       "    .dataframe thead th {\n",
       "        text-align: right;\n",
       "    }\n",
       "</style>\n",
       "<table border=\"1\" class=\"dataframe\">\n",
       "  <thead>\n",
       "    <tr style=\"text-align: right;\">\n",
       "      <th></th>\n",
       "      <th>index</th>\n",
       "      <th>TextId</th>\n",
       "      <th>CommentId</th>\n",
       "      <th>CommentContent</th>\n",
       "      <th>Toxicity</th>\n",
       "      <th>IsInsult</th>\n",
       "      <th>IsThreat</th>\n",
       "      <th>IsObscene</th>\n",
       "      <th>IsIdentityHate</th>\n",
       "    </tr>\n",
       "  </thead>\n",
       "  <tbody>\n",
       "    <tr>\n",
       "      <th>1</th>\n",
       "      <td>1</td>\n",
       "      <td>freya001</td>\n",
       "      <td>freya051002</td>\n",
       "      <td>認賊作父</td>\n",
       "      <td>4</td>\n",
       "      <td>2.0</td>\n",
       "      <td>NaN</td>\n",
       "      <td>NaN</td>\n",
       "      <td>NaN</td>\n",
       "    </tr>\n",
       "    <tr>\n",
       "      <th>2</th>\n",
       "      <td>2</td>\n",
       "      <td>freya001</td>\n",
       "      <td>freya051003</td>\n",
       "      <td>2020\\下綠營。2020\\滅東廠。\\綠色恐怖\\再現。\\n\\n消滅\\女暴君 詐騙獨裁鬥爭貪污...</td>\n",
       "      <td>5</td>\n",
       "      <td>3.0</td>\n",
       "      <td>3.0</td>\n",
       "      <td>NaN</td>\n",
       "      <td>3.0</td>\n",
       "    </tr>\n",
       "    <tr>\n",
       "      <th>3</th>\n",
       "      <td>3</td>\n",
       "      <td>freya002</td>\n",
       "      <td>freya051004</td>\n",
       "      <td>民進黨羸了，台灣輸了。</td>\n",
       "      <td>2</td>\n",
       "      <td>NaN</td>\n",
       "      <td>2.0</td>\n",
       "      <td>NaN</td>\n",
       "      <td>NaN</td>\n",
       "    </tr>\n",
       "    <tr>\n",
       "      <th>4</th>\n",
       "      <td>4</td>\n",
       "      <td>freya002</td>\n",
       "      <td>freya051005</td>\n",
       "      <td>在\\妳\\經營\\下\\倒退\\的\\結果\\無庸置疑。</td>\n",
       "      <td>3</td>\n",
       "      <td>NaN</td>\n",
       "      <td>2.0</td>\n",
       "      <td>NaN</td>\n",
       "      <td>NaN</td>\n",
       "    </tr>\n",
       "    <tr>\n",
       "      <th>5</th>\n",
       "      <td>5</td>\n",
       "      <td>freya002</td>\n",
       "      <td>freya051006</td>\n",
       "      <td>這個\\世界第一厲害\\，你\\是\\世界第一\\吧？</td>\n",
       "      <td>3</td>\n",
       "      <td>NaN</td>\n",
       "      <td>NaN</td>\n",
       "      <td>NaN</td>\n",
       "      <td>NaN</td>\n",
       "    </tr>\n",
       "  </tbody>\n",
       "</table>\n",
       "</div>"
      ],
      "text/plain": [
       "   index    TextId    CommentId  \\\n",
       "1      1  freya001  freya051002   \n",
       "2      2  freya001  freya051003   \n",
       "3      3  freya002  freya051004   \n",
       "4      4  freya002  freya051005   \n",
       "5      5  freya002  freya051006   \n",
       "\n",
       "                                      CommentContent  Toxicity  IsInsult  \\\n",
       "1                                               認賊作父         4       2.0   \n",
       "2  2020\\下綠營。2020\\滅東廠。\\綠色恐怖\\再現。\\n\\n消滅\\女暴君 詐騙獨裁鬥爭貪污...         5       3.0   \n",
       "3                                        民進黨羸了，台灣輸了。         2       NaN   \n",
       "4                             在\\妳\\經營\\下\\倒退\\的\\結果\\無庸置疑。         3       NaN   \n",
       "5                             這個\\世界第一厲害\\，你\\是\\世界第一\\吧？         3       NaN   \n",
       "\n",
       "   IsThreat  IsObscene  IsIdentityHate  \n",
       "1       NaN        NaN             NaN  \n",
       "2       3.0        NaN             3.0  \n",
       "3       2.0        NaN             NaN  \n",
       "4       2.0        NaN             NaN  \n",
       "5       NaN        NaN             NaN  "
      ]
     },
     "execution_count": 7,
     "metadata": {},
     "output_type": "execute_result"
    }
   ],
   "source": [
    "comments.head()"
   ]
  },
  {
   "cell_type": "code",
   "execution_count": 12,
   "metadata": {},
   "outputs": [],
   "source": [
    "with open(textgen.get_resource_path(\"as_chFreq.pickle\"), \"rb\") as fin:\n",
    "    chfreq = pickle.load(fin)"
   ]
  },
  {
   "cell_type": "code",
   "execution_count": 13,
   "metadata": {},
   "outputs": [],
   "source": [
    "import gzip\n",
    "\n",
    "def load_vectors(fname):\n",
    "    fin = gzip.open(fname, 'rt', encoding='utf-8', newline='\\n', errors='ignore')\n",
    "    n, d = map(int, fin.readline().split())\n",
    "    vectors = []\n",
    "    stoi = {}\n",
    "    for line_i, line in tqdm(enumerate(fin)):        \n",
    "        tokens = line.rstrip().split(' ')\n",
    "        if line_i < 100:\n",
    "            continue\n",
    "        if not all(ch in chfreq for ch in tokens[0]):\n",
    "            continue\n",
    "        stoi[tokens[0]] = len(vectors)        \n",
    "        vectors.append(list(map(float, tokens[1:])))        \n",
    "        if line_i > 50000: break\n",
    "    return stoi, vectors"
   ]
  },
  {
   "cell_type": "code",
   "execution_count": 14,
   "metadata": {},
   "outputs": [
    {
     "data": {
      "application/vnd.jupyter.widget-view+json": {
       "model_id": "64025728a8a348a5a85e3eda7ab3e60b",
       "version_major": 2,
       "version_minor": 0
      },
      "text/plain": [
       "HBox(children=(IntProgress(value=1, bar_style='info', max=1), HTML(value='')))"
      ]
     },
     "metadata": {},
     "output_type": "display_data"
    },
    {
     "name": "stdout",
     "output_type": "stream",
     "text": [
      "\n"
     ]
    }
   ],
   "source": [
    "stoi, vectors = load_vectors(\"h:/cc.zh.300.vec.gz\")"
   ]
  },
  {
   "cell_type": "code",
   "execution_count": 15,
   "metadata": {},
   "outputs": [
    {
     "data": {
      "text/plain": [
       "17444"
      ]
     },
     "execution_count": 15,
     "metadata": {},
     "output_type": "execute_result"
    }
   ],
   "source": [
    "stoi[\"柯文哲\"]"
   ]
  },
  {
   "cell_type": "code",
   "execution_count": 16,
   "metadata": {},
   "outputs": [],
   "source": [
    "itos = {v: k  for k, v in stoi.items()}"
   ]
  },
  {
   "cell_type": "code",
   "execution_count": 17,
   "metadata": {},
   "outputs": [],
   "source": [
    "with open(textgen.get_resource_path(\"word_vectors.pkl\"), \"wb\") as fout:\n",
    "    pickle.dump((itos, stoi, vectors), fout)"
   ]
  },
  {
   "cell_type": "code",
   "execution_count": null,
   "metadata": {},
   "outputs": [],
   "source": []
  }
 ],
 "metadata": {
  "kernelspec": {
   "display_name": "Python 3",
   "language": "python",
   "name": "python3"
  },
  "language_info": {
   "codemirror_mode": {
    "name": "ipython",
    "version": 3
   },
   "file_extension": ".py",
   "mimetype": "text/x-python",
   "name": "python",
   "nbconvert_exporter": "python",
   "pygments_lexer": "ipython3",
   "version": "3.7.2"
  }
 },
 "nbformat": 4,
 "nbformat_minor": 2
}
