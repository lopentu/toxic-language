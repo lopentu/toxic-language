{
 "cells": [
  {
   "cell_type": "code",
   "execution_count": 1,
   "metadata": {},
   "outputs": [],
   "source": [
    "%load_ext autoreload\n",
    "%autoreload 2\n",
    "%matplotlib inline"
   ]
  },
  {
   "cell_type": "code",
   "execution_count": 2,
   "metadata": {},
   "outputs": [],
   "source": [
    "import sys\n",
    "sys.path.append(\"../\")"
   ]
  },
  {
   "cell_type": "code",
   "execution_count": 3,
   "metadata": {},
   "outputs": [],
   "source": [
    "import pickle\n",
    "from itertools import chain\n",
    "import numpy as np\n",
    "import pandas as pd\n",
    "from tqdm import tqdm_notebook as tqdm\n",
    "import matplotlib.pyplot as plt"
   ]
  },
  {
   "cell_type": "code",
   "execution_count": 4,
   "metadata": {},
   "outputs": [],
   "source": [
    "import textgen"
   ]
  },
  {
   "cell_type": "markdown",
   "metadata": {},
   "source": [
    "## Load data"
   ]
  },
  {
   "cell_type": "code",
   "execution_count": 5,
   "metadata": {},
   "outputs": [],
   "source": [
    "comments_path = textgen.get_resource_path(\"toxicity-data-merged-comments-05251530.csv\")\n",
    "comments = pd.read_csv(comments_path, index_col=0)\n",
    "posts_path = textgen.get_resource_path(\"toxicity-data-merged-posts-05251530.csv\")\n",
    "posts = pd.read_csv(posts_path, index_col=0)"
   ]
  },
  {
   "cell_type": "code",
   "execution_count": 6,
   "metadata": {},
   "outputs": [],
   "source": [
    "def load_pretrained_wv(fpath):\n",
    "    with open(fpath, \"rb\") as fin:\n",
    "        (itos, stoi, vectors) = pickle.load(fin)\n",
    "        src_vocab = textgen.Vocabulary(itos, stoi, vectors)\n",
    "    return src_vocab\n",
    "posts_vocab = load_pretrained_wv(textgen.get_resource_path(\"word_vectors.pkl\"))"
   ]
  },
  {
   "cell_type": "code",
   "execution_count": 7,
   "metadata": {},
   "outputs": [],
   "source": [
    "chunks = [x for x in chain.from_iterable([x.split(\"\\\\\") for x in comments.CommentContent.tolist()])]"
   ]
  },
  {
   "cell_type": "code",
   "execution_count": 8,
   "metadata": {},
   "outputs": [],
   "source": [
    "comments_vocab = textgen.Vocabulary()\n",
    "comments_vocab.build_vocabulary(chunks)"
   ]
  },
  {
   "cell_type": "code",
   "execution_count": 9,
   "metadata": {},
   "outputs": [
    {
     "data": {
      "text/plain": [
       "(<Vocabulary: 27074 items, emb dim: (27074, 300)>, <Vocabulary: 1468 items>)"
      ]
     },
     "execution_count": 9,
     "metadata": {},
     "output_type": "execute_result"
    }
   ],
   "source": [
    "vocab_path = textgen.get_data_path(\"vocab.pkl\")\n",
    "with open(vocab_path, \"wb\") as fout:\n",
    "    pickle.dump((posts_vocab, comments_vocab), fout)\n",
    "posts_vocab, comments_vocab"
   ]
  },
  {
   "cell_type": "code",
   "execution_count": 10,
   "metadata": {},
   "outputs": [
    {
     "name": "stderr",
     "output_type": "stream",
     "text": [
      "Building prefix dict from the default dictionary ...\n",
      "Loading model from cache C:\\Users\\seantyh\\AppData\\Local\\Temp\\jieba.cache\n",
      "Loading model cost 0.683 seconds.\n",
      "Prefix dict has been built succesfully.\n"
     ]
    },
    {
     "name": "stdout",
     "output_type": "stream",
     "text": [
      "Cannot find gayo01\n",
      "Cannot find gayo01\n",
      "Cannot find gayo01\n"
     ]
    }
   ],
   "source": [
    "toxic_data = textgen.ToxicDataset(posts, comments, posts_vocab, comments_vocab)\n",
    "toxic_data_path = textgen.get_data_path(\"toxic_data.pkl\")\n",
    "toxic_data.save(toxic_data_path)"
   ]
  },
  {
   "cell_type": "code",
   "execution_count": 11,
   "metadata": {},
   "outputs": [
    {
     "data": {
      "text/plain": [
       "<ToxicDataset: 240 samples>"
      ]
     },
     "execution_count": 11,
     "metadata": {},
     "output_type": "execute_result"
    }
   ],
   "source": [
    "toxic_data_path = textgen.get_data_path(\"toxic_data.pkl\")\n",
    "toxic_data = textgen.ToxicDataset.load(toxic_data_path)\n",
    "toxic_data"
   ]
  },
  {
   "cell_type": "markdown",
   "metadata": {},
   "source": [
    "## Batching Data"
   ]
  },
  {
   "cell_type": "code",
   "execution_count": 12,
   "metadata": {},
   "outputs": [],
   "source": [
    "import torch\n",
    "import torch.nn.functional as F\n",
    "import torch.nn as nn\n",
    "import torch.optim as optim"
   ]
  },
  {
   "cell_type": "code",
   "execution_count": 13,
   "metadata": {},
   "outputs": [],
   "source": [
    "from torch.utils.data import DataLoader\n",
    "from functools import partial\n",
    "collate_fn = partial(textgen.collate_fn, \n",
    "                     src_pad=posts_vocab.stoi[\"<PAD>\"], \n",
    "                     tgt_pad=comments_vocab.stoi[\"<PAD>\"])"
   ]
  },
  {
   "cell_type": "code",
   "execution_count": 14,
   "metadata": {},
   "outputs": [],
   "source": [
    "xx, yy = next(iter(DataLoader(toxic_data, batch_size=2, collate_fn=collate_fn)))"
   ]
  },
  {
   "cell_type": "code",
   "execution_count": 15,
   "metadata": {},
   "outputs": [
    {
     "data": {
      "text/plain": [
       "tensor([[[-7.1750, -7.4919, -6.9320,  ..., -7.2724, -7.2559, -7.2487],\n",
       "         [-7.2659, -7.4271, -6.8783,  ..., -7.2567, -7.3322, -7.1845],\n",
       "         [-7.4044, -7.3077, -6.9152,  ..., -7.3320, -7.5062, -7.1983],\n",
       "         ...,\n",
       "         [-7.3432, -7.1550, -7.2504,  ..., -7.2388, -7.2481, -7.1735],\n",
       "         [-7.3352, -7.1606, -7.2762,  ..., -7.2406, -7.2485, -7.1646],\n",
       "         [-7.3300, -7.1664, -7.2868,  ..., -7.2412, -7.2494, -7.1560]],\n",
       "\n",
       "        [[-7.1701, -7.4987, -6.9634,  ..., -7.2775, -7.2392, -7.2492],\n",
       "         [-7.0333, -7.1475, -6.9664,  ..., -7.1346, -7.4502, -7.4341],\n",
       "         [-7.2212, -7.0565, -7.0203,  ..., -7.2636, -7.3988, -7.2632],\n",
       "         ...,\n",
       "         [-7.1985, -7.4982, -6.9183,  ..., -7.3690, -7.1566, -7.3234],\n",
       "         [-7.3523, -7.1444, -6.9164,  ..., -7.3388, -7.2525, -7.0813],\n",
       "         [-7.2846, -7.0613, -7.0112,  ..., -7.3121, -7.2251, -7.2206]]],\n",
       "       grad_fn=<CopySlices>)"
      ]
     },
     "execution_count": 15,
     "metadata": {},
     "output_type": "execute_result"
    }
   ],
   "source": [
    "cpumodel = textgen.ToxicCommentModel(posts_vocab, comments_vocab, torch.device('cpu'))\n",
    "cpumodel(xx, yy)"
   ]
  },
  {
   "cell_type": "code",
   "execution_count": 16,
   "metadata": {},
   "outputs": [
    {
     "data": {
      "text/plain": [
       "device(type='cuda')"
      ]
     },
     "execution_count": 16,
     "metadata": {},
     "output_type": "execute_result"
    }
   ],
   "source": [
    "USE_CUDA = True\n",
    "if torch.cuda.is_available() and USE_CUDA:\n",
    "    device = torch.device('cuda')\n",
    "else:\n",
    "    device = torch.device('cpu')\n",
    "device"
   ]
  },
  {
   "cell_type": "code",
   "execution_count": 17,
   "metadata": {},
   "outputs": [
    {
     "name": "stderr",
     "output_type": "stream",
     "text": [
      "WARNING:root:Setting up a new session...\n"
     ]
    }
   ],
   "source": [
    "import visdom\n",
    "vis = visdom.Visdom()"
   ]
  },
  {
   "cell_type": "code",
   "execution_count": 18,
   "metadata": {},
   "outputs": [],
   "source": [
    "vis.close()\n",
    "loss_fn = nn.NLLLoss()\n",
    "model = textgen.ToxicCommentModel(posts_vocab, comments_vocab, device)\n",
    "model = model.to(device)\n",
    "adam = optim.Adam(model.parameters(), lr=1e-2)\n",
    "total_epoch = 0\n",
    "loss_vec = []\n",
    "acc_vec = []"
   ]
  },
  {
   "cell_type": "code",
   "execution_count": 19,
   "metadata": {},
   "outputs": [],
   "source": [
    "def display_activation(module, input, output):      \n",
    "    vis.bar(output[0], win='activation', opts=dict(title='activation'))\n",
    "if 'hook' in locals():\n",
    "    hook.remove()\n",
    "hook = model.fc2.register_forward_hook(display_activation)"
   ]
  },
  {
   "cell_type": "code",
   "execution_count": 20,
   "metadata": {},
   "outputs": [
    {
     "data": {
      "application/vnd.jupyter.widget-view+json": {
       "model_id": "ca6ba4e236a64e1c9efb5fc6b68ef729",
       "version_major": 2,
       "version_minor": 0
      },
      "text/plain": [
       "HBox(children=(IntProgress(value=0, max=50), HTML(value='')))"
      ]
     },
     "metadata": {},
     "output_type": "display_data"
    },
    {
     "name": "stdout",
     "output_type": "stream",
     "text": [
      "\n"
     ]
    }
   ],
   "source": [
    "from itertools import islice\n",
    "n_epoch = 50\n",
    "model.train()\n",
    "fc1_params = []\n",
    "for epoch_i in tqdm(range(n_epoch)):\n",
    "    acc_epoch = []\n",
    "    loss_epoch = []\n",
    "    loader = DataLoader(toxic_data, batch_size=30, \n",
    "                        collate_fn=collate_fn)\n",
    "    for src_batch, tgt_batch in loader:      \n",
    "        src_batch = src_batch.to(device)\n",
    "        tgt_batch = tgt_batch.to(device)\n",
    "        out = model(src_batch, tgt_batch)\n",
    "        \n",
    "        loss = None\n",
    "        for batch_i in range(out.shape[0]):\n",
    "            out_batch_x = out[batch_i, :, :]\n",
    "            tgt_batch_x = tgt_batch[batch_i, :]            \n",
    "            \n",
    "            out_batch_x = out_batch_x[tgt_batch_x != 1466]\n",
    "            tgt_batch_x = tgt_batch_x[tgt_batch_x != 1466]                        \n",
    "            loss_val = loss_fn(out_batch_x, tgt_batch_x)\n",
    "            \n",
    "            if loss:\n",
    "                loss += loss_val\n",
    "            else:\n",
    "                loss = loss_val\n",
    "        loss_epoch.append(loss.item())\n",
    "        \n",
    "        out_seq = out.argmax(2).detach().cpu().numpy()\n",
    "        tgt_seq = tgt_batch.detach().cpu().numpy()\n",
    "        acc_seq = [textgen.get_seq_overlap(out_seq[i], tgt_seq[i], comments_vocab) \n",
    "                   for i in range(len(tgt_seq))]\n",
    "        acc = np.mean(acc_seq)\n",
    "        acc_epoch.append(acc)\n",
    "        \n",
    "        # diagnosis\n",
    "        fc1_params = list(model.fc1.parameters())[0].cpu().detach().numpy()\n",
    "        \n",
    "        adam.zero_grad()\n",
    "        loss.backward()\n",
    "        adam.step()\n",
    "        \n",
    "    total_epoch += 1        \n",
    "    vis.line(X=[total_epoch], Y=[np.sum(loss_epoch)], win='lossline', update='append', opts=dict(title='loss'))\n",
    "    loss_vec.append(np.sum(loss_epoch))\n",
    "    acc_vec.append(np.mean(acc_epoch))\n",
    "    "
   ]
  },
  {
   "cell_type": "code",
   "execution_count": 21,
   "metadata": {},
   "outputs": [
    {
     "data": {
      "text/plain": [
       "[<matplotlib.lines.Line2D at 0x2620b12d5c0>]"
      ]
     },
     "execution_count": 21,
     "metadata": {},
     "output_type": "execute_result"
    },
    {
     "data": {
      "image/png": "[encoded data removed]",
      "text/plain": [
       "<Figure size 432x288 with 2 Axes>"
      ]
     },
     "metadata": {
      "needs_background": "light"
     },
     "output_type": "display_data"
    }
   ],
   "source": [
    "fig, axes = plt.subplots(1,2)\n",
    "axes[0].plot(loss_vec)\n",
    "axes[1].plot(acc_vec)"
   ]
  },
  {
   "cell_type": "code",
   "execution_count": 35,
   "metadata": {},
   "outputs": [
    {
     "data": {
      "text/plain": [
       "tensor([[ 170,  171,  172,  173, 1465, 1466, 1466, 1466, 1466, 1466, 1466],\n",
       "        [ 464,  465,  466,  467,  468,  469,  470,  471,  472,  473, 1465]])"
      ]
     },
     "execution_count": 35,
     "metadata": {},
     "output_type": "execute_result"
    }
   ],
   "source": [
    "yy"
   ]
  },
  {
   "cell_type": "code",
   "execution_count": 22,
   "metadata": {},
   "outputs": [
    {
     "data": {
      "text/plain": [
       "['蔡英文',\n",
       " '<EOS>',\n",
       " '<EOS>',\n",
       " '<EOS>',\n",
       " '<EOS>',\n",
       " '<EOS>',\n",
       " '<EOS>',\n",
       " '<EOS>',\n",
       " '<EOS>',\n",
       " '<EOS>']"
      ]
     },
     "execution_count": 22,
     "metadata": {},
     "output_type": "execute_result"
    }
   ],
   "source": [
    "intext = \"\"\"\n",
    "郭樹清在發言稿中強調，貿易戰不能解決任何問題，損人不利己且危害全世界。\n",
    "從中國來看，美國固然可以把關稅加到極限水平，但是這對中國經濟的影響將非常有限。\n",
    "國際上有觀點認為，中國經濟的快速發展是實行「國家壟斷資本主義」的結果，這種說法毫無根據。\"\"\"\n",
    "\n",
    "model.eval()\n",
    "# textgen.predict(model, intext, posts_vocab, comments_vocab, device)\n",
    "out = model(xx.to(device))\n",
    "# out = model(xx.to(device), yy.to(device))\n",
    "ypred = out.argmax(2).cpu().numpy().tolist()[0]\n",
    "textgen.inverse_convert_comment(ypred, comments_vocab)"
   ]
  },
  {
   "cell_type": "code",
   "execution_count": 82,
   "metadata": {},
   "outputs": [
    {
     "name": "stdout",
     "output_type": "stream",
     "text": [
      "['你做那麼爛']\n",
      "['何止與惡零距離，']\n",
      "['的']\n",
      "['認為']\n",
      "['又扮起耶穌了？']\n"
     ]
    }
   ],
   "source": [
    "topv, topi = out.topk(10)\n",
    "topv = topv[0].cpu().detach().numpy()\n",
    "topi = topi[0].cpu().detach().numpy()\n",
    "\n",
    "visited = set()\n",
    "rs = np.random.RandomState(343)\n",
    "for step_i in range(topv.shape[1]):\n",
    "    logits = topv[step_i]\n",
    "    tok_idx = topi[step_i]\n",
    "        \n",
    "    for vec_idx, tok_logit in enumerate(logits):        \n",
    "        tok_i = tok_idx[vec_idx]\n",
    "        if tok_i in visited or tok_i >= comments_vocab.stoi[\"<SOS>\"]:\n",
    "            logits[vec_idx] *= 10\n",
    "    probs = np.exp(logits)/np.sum(np.exp(logits))\n",
    "    selected_idx = np.argwhere(np.random.multinomial(1, probs)).flatten()[0]\n",
    "    selected = tok_idx[selected_idx]    \n",
    "    visited.add(selected)    \n",
    "    if rs.binomial(1, step_i * 0.1):\n",
    "        break\n",
    "    print(comments_vocab.to_texts([selected]))"
   ]
  },
  {
   "cell_type": "code",
   "execution_count": 69,
   "metadata": {},
   "outputs": [
    {
     "data": {
      "text/plain": [
       "1464"
      ]
     },
     "execution_count": 69,
     "metadata": {},
     "output_type": "execute_result"
    }
   ],
   "source": [
    "comments_vocab.stoi[\"<SOS>\"]"
   ]
  },
  {
   "cell_type": "code",
   "execution_count": 83,
   "metadata": {},
   "outputs": [],
   "source": [
    "model_path = textgen.get_data_path(\"toxic-model-max-40-100-0527.pt\")\n",
    "\n",
    "torch.save(model.state_dict(), model_path)"
   ]
  },
  {
   "cell_type": "code",
   "execution_count": 52,
   "metadata": {},
   "outputs": [
    {
     "data": {
      "text/plain": [
       "{0, 1, 3, 4, 6, 8}"
      ]
     },
     "execution_count": 52,
     "metadata": {},
     "output_type": "execute_result"
    }
   ],
   "source": [
    "visited"
   ]
  },
  {
   "cell_type": "code",
   "execution_count": null,
   "metadata": {},
   "outputs": [],
   "source": []
  }
 ],
 "metadata": {
  "kernelspec": {
   "display_name": "Python 3",
   "language": "python",
   "name": "python3"
  },
  "language_info": {
   "codemirror_mode": {
    "name": "ipython",
    "version": 3
   },
   "file_extension": ".py",
   "mimetype": "text/x-python",
   "name": "python",
   "nbconvert_exporter": "python",
   "pygments_lexer": "ipython3",
   "version": "3.7.2"
  }
 },
 "nbformat": 4,
 "nbformat_minor": 2
}
