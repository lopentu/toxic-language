{
 "cells": [
  {
   "cell_type": "code",
   "execution_count": 1,
   "metadata": {},
   "outputs": [],
   "source": [
    "%load_ext autoreload\n",
    "%autoreload 2\n",
    "%matplotlib inline"
   ]
  },
  {
   "cell_type": "code",
   "execution_count": 2,
   "metadata": {},
   "outputs": [],
   "source": [
    "import sys\n",
    "sys.path.append(\"../\")"
   ]
  },
  {
   "cell_type": "code",
   "execution_count": 3,
   "metadata": {},
   "outputs": [],
   "source": [
    "import pickle\n",
    "from itertools import chain\n",
    "import numpy as np\n",
    "from tqdm import tqdm_notebook as tqdm\n",
    "import matplotlib.pyplot as plt\n",
    "import torch"
   ]
  },
  {
   "cell_type": "code",
   "execution_count": 4,
   "metadata": {},
   "outputs": [],
   "source": [
    "import textgen"
   ]
  },
  {
   "cell_type": "markdown",
   "metadata": {},
   "source": [
    "## Load models"
   ]
  },
  {
   "cell_type": "code",
   "execution_count": 5,
   "metadata": {},
   "outputs": [
    {
     "data": {
      "text/plain": [
       "(<Vocabulary: 27074 items, emb dim: (27074, 300)>, <Vocabulary: 1468 items>)"
      ]
     },
     "execution_count": 5,
     "metadata": {},
     "output_type": "execute_result"
    }
   ],
   "source": [
    "vocab_path = textgen.get_data_path(\"vocab.pkl\")\n",
    "with open(vocab_path, \"rb\") as fin:\n",
    "    posts_vocab, comments_vocab = pickle.load(fin)\n",
    "posts_vocab, comments_vocab"
   ]
  },
  {
   "cell_type": "code",
   "execution_count": 6,
   "metadata": {},
   "outputs": [
    {
     "data": {
      "text/plain": [
       "ToxicCommentModel(\n",
       "  (embed): Embedding(27074, 300, padding_idx=27072)\n",
       "  (tgt_embed): Embedding(1468, 200, padding_idx=1466)\n",
       "  (avg): AdaptiveMaxPool2d(output_size=(1, 150))\n",
       "  (fc1): Linear(in_features=150, out_features=30, bias=True)\n",
       "  (rnn): GRU(200, 30, batch_first=True)\n",
       "  (fc2): Linear(in_features=30, out_features=1468, bias=True)\n",
       ")"
      ]
     },
     "execution_count": 6,
     "metadata": {},
     "output_type": "execute_result"
    }
   ],
   "source": [
    "model_path = textgen.get_data_path(\"toxic-model-max-30-200.pt\")\n",
    "model = textgen.ToxicCommentModel(posts_vocab, comments_vocab, torch.device('cpu'))\n",
    "model.load_state_dict(torch.load(model_path, map_location=torch.device('cpu')))\n",
    "model.eval()"
   ]
  },
  {
   "cell_type": "markdown",
   "metadata": {},
   "source": [
    "## model prediction"
   ]
  },
  {
   "cell_type": "code",
   "execution_count": 7,
   "metadata": {},
   "outputs": [
    {
     "data": {
      "text/plain": [
       "<ToxicDataset: 240 samples>"
      ]
     },
     "execution_count": 7,
     "metadata": {},
     "output_type": "execute_result"
    }
   ],
   "source": [
    "toxic_data_path = textgen.get_data_path(\"toxic_data.pkl\")\n",
    "toxic_data = textgen.ToxicDataset.load(toxic_data_path)\n",
    "toxic_data"
   ]
  },
  {
   "cell_type": "code",
   "execution_count": 8,
   "metadata": {},
   "outputs": [],
   "source": [
    "from torch.utils.data import DataLoader\n",
    "from functools import partial\n",
    "collate_fn = partial(textgen.collate_fn, \n",
    "                     src_pad=posts_vocab.stoi[\"<PAD>\"], \n",
    "                     tgt_pad=comments_vocab.stoi[\"<PAD>\"])\n",
    "xx, yy = next(iter(DataLoader(toxic_data, batch_size=2, collate_fn=collate_fn)))"
   ]
  },
  {
   "cell_type": "code",
   "execution_count": 9,
   "metadata": {},
   "outputs": [
    {
     "name": "stderr",
     "output_type": "stream",
     "text": [
      "Building prefix dict from the default dictionary ...\n",
      "Loading model from cache C:\\Users\\seantyh\\AppData\\Local\\Temp\\jieba.cache\n",
      "Loading model cost 0.645 seconds.\n",
      "Prefix dict has been built succesfully.\n"
     ]
    }
   ],
   "source": [
    "intext = \"\"\"\n",
    "郭樹清在發言稿中強調，貿易戰不能解決任何問題，損人不利己且危害全世界。\n",
    "從中國來看，美國固然可以把關稅加到極限水平，但是這對中國經濟的影響將非常有限。\n",
    "國際上有觀點認為，中國經濟的快速發展是實行「國家壟斷資本主義」的結果，這種說法毫無根據。\"\"\"\n",
    "text_vec = np.vstack([textgen.convert_text(intext, posts_vocab)] * 2)\n",
    "in_tensor = torch.LongTensor(text_vec)"
   ]
  },
  {
   "cell_type": "code",
   "execution_count": 10,
   "metadata": {},
   "outputs": [
    {
     "data": {
      "text/plain": [
       "1464"
      ]
     },
     "execution_count": 10,
     "metadata": {},
     "output_type": "execute_result"
    }
   ],
   "source": [
    "model.tgt_soi"
   ]
  },
  {
   "cell_type": "code",
   "execution_count": 24,
   "metadata": {},
   "outputs": [
    {
     "name": "stdout",
     "output_type": "stream",
     "text": [
      "tensor(1464)\n"
     ]
    },
    {
     "data": {
      "text/plain": [
       "['<SOS>',\n",
       " '老蔡脯，沒多久',\n",
       " '可以',\n",
       " '不要再',\n",
       " '干預股市了嗎',\n",
       " '<EOS>',\n",
       " '<PAD>',\n",
       " '<PAD>',\n",
       " '<PAD>',\n",
       " '<PAD>',\n",
       " '<PAD>',\n",
       " '<PAD>']"
      ]
     },
     "execution_count": 24,
     "metadata": {},
     "output_type": "execute_result"
    }
   ],
   "source": [
    "out = model(xx, yy)\n",
    "textgen.inverse_convert_comment(out.argmax(2).numpy().tolist()[0], comments_vocab)"
   ]
  },
  {
   "cell_type": "code",
   "execution_count": 22,
   "metadata": {},
   "outputs": [
    {
     "name": "stdout",
     "output_type": "stream",
     "text": [
      "tensor([-1.0000, -1.0000, -1.0000,  ..., -0.9972, -1.0000, -1.0000],\n",
      "       grad_fn=<SelectBackward>)\n"
     ]
    },
    {
     "data": {
      "text/plain": [
       "['<SOS>',\n",
       " '<SOS>',\n",
       " '<SOS>',\n",
       " '<SOS>',\n",
       " '<SOS>',\n",
       " '<SOS>',\n",
       " '<SOS>',\n",
       " '<SOS>',\n",
       " '<SOS>',\n",
       " '<SOS>',\n",
       " '<SOS>',\n",
       " '<SOS>',\n",
       " '<SOS>',\n",
       " '<SOS>',\n",
       " '<SOS>',\n",
       " '<SOS>',\n",
       " '<SOS>',\n",
       " '<SOS>',\n",
       " '<SOS>',\n",
       " '<SOS>']"
      ]
     },
     "execution_count": 22,
     "metadata": {},
     "output_type": "execute_result"
    }
   ],
   "source": [
    "out = model(xx)\n",
    "textgen.inverse_convert_comment(out.argmax(2).numpy().tolist()[0], comments_vocab)"
   ]
  },
  {
   "cell_type": "code",
   "execution_count": null,
   "metadata": {},
   "outputs": [],
   "source": []
  }
 ],
 "metadata": {
  "kernelspec": {
   "display_name": "Python 3",
   "language": "python",
   "name": "python3"
  },
  "language_info": {
   "codemirror_mode": {
    "name": "ipython",
    "version": 3
   },
   "file_extension": ".py",
   "mimetype": "text/x-python",
   "name": "python",
   "nbconvert_exporter": "python",
   "pygments_lexer": "ipython3",
   "version": "3.7.2"
  }
 },
 "nbformat": 4,
 "nbformat_minor": 2
}
