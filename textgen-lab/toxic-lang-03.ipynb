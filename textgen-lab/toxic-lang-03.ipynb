{
 "cells": [
  {
   "cell_type": "code",
   "execution_count": 1,
   "metadata": {},
   "outputs": [],
   "source": [
    "%load_ext autoreload\n",
    "%autoreload 2\n",
    "%matplotlib inline"
   ]
  },
  {
   "cell_type": "code",
   "execution_count": 2,
   "metadata": {},
   "outputs": [],
   "source": [
    "import sys\n",
    "sys.path.append(\"../\")"
   ]
  },
  {
   "cell_type": "code",
   "execution_count": 3,
   "metadata": {},
   "outputs": [],
   "source": [
    "import pickle\n",
    "from itertools import chain\n",
    "import numpy as np\n",
    "import torch"
   ]
  },
  {
   "cell_type": "code",
   "execution_count": 5,
   "metadata": {},
   "outputs": [],
   "source": [
    "from textgen import NNTextGen"
   ]
  },
  {
   "cell_type": "code",
   "execution_count": 6,
   "metadata": {},
   "outputs": [],
   "source": [
    "model = NNTextGen()"
   ]
  },
  {
   "cell_type": "markdown",
   "metadata": {},
   "source": [
    "## model prediction"
   ]
  },
  {
   "cell_type": "code",
   "execution_count": 7,
   "metadata": {},
   "outputs": [],
   "source": [
    "intext_1 = \"\"\"\n",
    "民進黨周三中執會，外傳若通過修改總統初選規則，賴將發動法律戰甚至脫黨參選，賴清德今天強調「絕不可能」，他說，如果中執會真的修改選舉辦法，對黨的傷害已經非常大，他不願再給黨一擊，即便發生這樣的事情，他不會脫黨參選，也不會去採取法律途徑。\n",
    "\n",
    "　外傳中執會若作出對賴不利的提案，賴可能脫黨參選，賴清德今天接受YAHOO TV專訪時強調「不可能」，他說，最近坊間經常出現一些建言，反映出對黨內初選，社會上來已經漸漸的有一點按耐不住，也充滿焦慮，所以各種可能性的想法，大家都會跑出來。\n",
    "\n",
    "不過賴特別強調，他出來參選並不是為了個人，而是希望在民進黨最困頓的時候，仍有機會贏得國人的支持，因此他才要接棒承擔下一個階段的責任。\n",
    "\n",
    "賴清德強調，他當然不希望黨在初選辦法已經公告，候選人也去登記了而且進行了兩個多月之後，再來改選舉辦法，因為這個對黨的傷害非常非常大，如果這樣做的話，恐怕會讓社會對民進黨的初選制度失去信心，也很難在明年的總統大選和立委選舉贏得勝利。\n",
    "\n",
    "所以他說，即便發生這樣的事情，他也不會脫黨參選，也不會就此去採取法律途徑，因為黨在初選進行到一半的時候更改規則，這個對黨已經是一種重傷害，在這種情況下，他是不可能再給黨一擊。\n",
    "\n",
    "賴清德強調「我不會這樣做，因為我一直都深愛這個黨」，他希望民進黨能夠透過民主程序，重新贏得支持，不必要為了勝選，去採取其他的手段，這是他的理念，所以他不會去做什麼法律途徑。\n",
    "\"\"\""
   ]
  },
  {
   "cell_type": "code",
   "execution_count": 9,
   "metadata": {},
   "outputs": [
    {
     "data": {
      "text/plain": [
       "['挖還是活在自己的世界',\n",
       " '若是何止與惡零距離， 她你台湾还没有那个资格。打与不打，是由我们决定的，敲碗就要給你喔XD',\n",
       " '你做那麼爛',\n",
       " 'EQ看到美國人',\n",
       " '辣到全台灣戶政事務所一堆性解放人士在結婚！！！的公務員，敲碗就要給你喔XD',\n",
       " '你做那麼爛，你会死无葬身之地認為',\n",
       " '挖的',\n",
       " '辣到全台灣戶政事務所一堆性解放人士在結婚！！！還是活在自己的世界',\n",
       " '噁心實在不配稱民主!',\n",
       " '就是何止與惡零距離，實在不配稱民主!認為']"
      ]
     },
     "execution_count": 9,
     "metadata": {},
     "output_type": "execute_result"
    }
   ],
   "source": [
    "model.predict(intext_1)"
   ]
  },
  {
   "cell_type": "code",
   "execution_count": 10,
   "metadata": {},
   "outputs": [],
   "source": [
    "intext_2 = \"\"\"\n",
    "潛艦戰隊！為海軍爭氣，為國家爭光！\n",
    "　　\n",
    "國防自主不能是「只聞樓梯響，不見人下來」。透過國艦國造，我們國防預算的運用，不再只是採購，更能夠研發、製造，帶動整個國防產業鏈升級。\n",
    "　　\n",
    "前陣子，我去高雄參加潛艦廠的動土典禮。今天，我也到宜蘭見證更多 #沱江艦 動工。沱江艦艦體小、速度快、火力強，搭配水下潛艦，海軍將擁有可觀的不對稱戰力。\n",
    "　　\n",
    "過去我們遇到許多困難和壓力，但是我們有決心一一克服。台灣就要開始打造自己的潛艦，未來十年，海軍加海巡更有超過200艘艦艇，要留在台灣製造。海軍的新時代，即將到來。\n",
    "　　\n",
    "你看過潛艦嗎？知道什麼是「站𦨭」嗎？一般人很少有機會目睹的畫面，點開影片就知道了！\n",
    "\"\"\""
   ]
  },
  {
   "cell_type": "code",
   "execution_count": 11,
   "metadata": {},
   "outputs": [
    {
     "data": {
      "text/plain": [
       "['輸不起的實在不配稱民主!，',\n",
       " '挖看到美國人 ',\n",
       " '輸不起的實在不配稱民主!，，她的腦袋長在屁股上……你台湾还没有那个资格。打与不打，是由我们决定的，還要強才對啊',\n",
       " '辣到全台灣戶政事務所一堆性解放人士在結婚！！！',\n",
       " '你做那麼爛，公務員認為',\n",
       " 'EQ帶領的她對',\n",
       " '你做那麼爛實在不配稱民主!的',\n",
       " '輸不起的，，只愛權力，吃勞工青年人豆腐。她敲碗就要給你喔XD對',\n",
       " 'EQ，的對又扮起耶穌了？她公務員',\n",
       " '噁心，']"
      ]
     },
     "execution_count": 11,
     "metadata": {},
     "output_type": "execute_result"
    }
   ],
   "source": [
    "model.predict(intext_2)"
   ]
  },
  {
   "cell_type": "code",
   "execution_count": 12,
   "metadata": {},
   "outputs": [],
   "source": [
    "intext_3 = \"\"\"\n",
    "各位辣台派早安！\n",
    "　　\n",
    "辣台派南台灣第一站就辣到高雄，不但要讓高雄造大船，還能具體說出怎麼發財！\n",
    "　　\n",
    "這次我到高雄向鄉親們報告執政團隊對高雄不變的承諾：發展橋頭科學園區、讓離岸風電和國艦國造、振興港區海事產業、接軌國際。並在美中貿易戰當中嚴防中國洗產地，讓台商能安心回台投資。\n",
    "　　\n",
    "平常少有機會完整向大家報告我們施政成果，如果覺得我們有認真有努力，就把影片分享給朋友看！\n",
    "\"\"\""
   ]
  },
  {
   "cell_type": "code",
   "execution_count": 13,
   "metadata": {},
   "outputs": [
    {
     "data": {
      "text/plain": [
       "['挖本來 公務員她又扮起耶穌了？',\n",
       " '你是腦子有洞？是支柱內的蛀蟲，你台湾还没有那个资格。打与不打，是由我们决定的，對公務員',\n",
       " '噁心，',\n",
       " '蔡英文，你台湾还没有那个资格。打与不打，是由我们决定的，公務員',\n",
       " '蔡英文，的',\n",
       " '辣到全台灣戶政事務所一堆性解放人士在結婚！！！實在不配稱民主!你台湾还没有那个资格。打与不打，是由我们决定的，對',\n",
       " '噁心',\n",
       " '輸不起的何止與惡零距離，，',\n",
       " '你是腦子有洞？，',\n",
       " '挖何止與惡零距離，，你台湾还没有那个资格。打与不打，是由我们决定的，公務員又扮起耶穌了？']"
      ]
     },
     "execution_count": 13,
     "metadata": {},
     "output_type": "execute_result"
    }
   ],
   "source": [
    "model.predict(intext_3)"
   ]
  },
  {
   "cell_type": "code",
   "execution_count": null,
   "metadata": {},
   "outputs": [],
   "source": []
  }
 ],
 "metadata": {
  "kernelspec": {
   "display_name": "Python 3",
   "language": "python",
   "name": "python3"
  },
  "language_info": {
   "codemirror_mode": {
    "name": "ipython",
    "version": 3
   },
   "file_extension": ".py",
   "mimetype": "text/x-python",
   "name": "python",
   "nbconvert_exporter": "python",
   "pygments_lexer": "ipython3",
   "version": "3.7.2"
  }
 },
 "nbformat": 4,
 "nbformat_minor": 2
}
