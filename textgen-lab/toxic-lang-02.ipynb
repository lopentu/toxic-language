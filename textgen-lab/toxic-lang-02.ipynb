{
 "cells": [
  {
   "cell_type": "code",
   "execution_count": 1,
   "metadata": {},
   "outputs": [],
   "source": [
    "%load_ext autoreload\n",
    "%autoreload 2\n",
    "%matplotlib inline"
   ]
  },
  {
   "cell_type": "code",
   "execution_count": 2,
   "metadata": {},
   "outputs": [],
   "source": [
    "import sys\n",
    "sys.path.append(\"../\")"
   ]
  },
  {
   "cell_type": "code",
   "execution_count": 3,
   "metadata": {},
   "outputs": [],
   "source": [
    "import pickle\n",
    "from itertools import chain\n",
    "import numpy as np\n",
    "import pandas as pd\n",
    "from tqdm import tqdm_notebook as tqdm"
   ]
  },
  {
   "cell_type": "code",
   "execution_count": 4,
   "metadata": {},
   "outputs": [],
   "source": [
    "import textgen"
   ]
  },
  {
   "cell_type": "markdown",
   "metadata": {},
   "source": [
    "## Load data"
   ]
  },
  {
   "cell_type": "code",
   "execution_count": 5,
   "metadata": {},
   "outputs": [],
   "source": [
    "comments_path = textgen.get_resource_path(\"toxicity-data-merged-comments-05251530.csv\")\n",
    "comments = pd.read_csv(comments_path, index_col=0)\n",
    "posts_path = textgen.get_resource_path(\"toxicity-data-merged-posts-05251530.csv\")\n",
    "posts = pd.read_csv(posts_path, index_col=0)"
   ]
  },
  {
   "cell_type": "code",
   "execution_count": 6,
   "metadata": {},
   "outputs": [],
   "source": [
    "def load_pretrained_wv(fpath):\n",
    "    with open(fpath, \"rb\") as fin:\n",
    "        (itos, stoi, vectors) = pickle.load(fin)\n",
    "        src_vocab = textgen.Vocabulary(itos, stoi, vectors)\n",
    "    return src_vocab\n",
    "posts_vocab = load_pretrained_wv(textgen.get_resource_path(\"word_vectors.pkl\"))"
   ]
  },
  {
   "cell_type": "code",
   "execution_count": 7,
   "metadata": {},
   "outputs": [],
   "source": [
    "chunks = [x for x in chain.from_iterable([x.split(\"\\\\\") for x in comments.CommentContent.tolist()])]"
   ]
  },
  {
   "cell_type": "code",
   "execution_count": 8,
   "metadata": {},
   "outputs": [],
   "source": [
    "comments_vocab = textgen.Vocabulary()\n",
    "comments_vocab.build_vocabulary(chunks)"
   ]
  },
  {
   "cell_type": "code",
   "execution_count": 9,
   "metadata": {},
   "outputs": [
    {
     "data": {
      "text/plain": [
       "(<Vocabulary: 27074 items, emb dim: (27074, 300)>, <Vocabulary: 1468 items>)"
      ]
     },
     "execution_count": 9,
     "metadata": {},
     "output_type": "execute_result"
    }
   ],
   "source": [
    "posts_vocab, comments_vocab"
   ]
  },
  {
   "cell_type": "code",
   "execution_count": 10,
   "metadata": {},
   "outputs": [
    {
     "name": "stderr",
     "output_type": "stream",
     "text": [
      "Building prefix dict from the default dictionary ...\n",
      "Loading model from cache C:\\Users\\seantyh\\AppData\\Local\\Temp\\jieba.cache\n",
      "Loading model cost 0.667 seconds.\n",
      "Prefix dict has been built succesfully.\n"
     ]
    },
    {
     "name": "stdout",
     "output_type": "stream",
     "text": [
      "Cannot find gayo01\n",
      "Cannot find gayo01\n",
      "Cannot find gayo01\n"
     ]
    }
   ],
   "source": [
    "toxic_data = textgen.ToxicDataset(posts, comments, posts_vocab, comments_vocab)\n",
    "toxic_data_path = textgen.get_data_path(\"toxic_data.pkl\")\n",
    "toxic_data.save(toxic_data_path)"
   ]
  },
  {
   "cell_type": "code",
   "execution_count": 11,
   "metadata": {},
   "outputs": [
    {
     "data": {
      "text/plain": [
       "<ToxicDataset: 240 samples>"
      ]
     },
     "execution_count": 11,
     "metadata": {},
     "output_type": "execute_result"
    }
   ],
   "source": [
    "toxic_data = textgen.ToxicDataset.load(toxic_data_path)\n",
    "toxic_data"
   ]
  },
  {
   "cell_type": "markdown",
   "metadata": {},
   "source": [
    "## Batching Data"
   ]
  },
  {
   "cell_type": "code",
   "execution_count": 12,
   "metadata": {},
   "outputs": [
    {
     "data": {
      "text/plain": [
       "torch.Size([92])"
      ]
     },
     "execution_count": 12,
     "metadata": {},
     "output_type": "execute_result"
    }
   ],
   "source": [
    "s0 = toxic_data[0][0]\n",
    "s1 = toxic_data[50][0]\n",
    "s1.shape"
   ]
  },
  {
   "cell_type": "code",
   "execution_count": 13,
   "metadata": {},
   "outputs": [],
   "source": [
    "import torch.nn.functional as F\n",
    "import torch.nn as nn\n",
    "import torch.optim as optim"
   ]
  },
  {
   "cell_type": "code",
   "execution_count": 14,
   "metadata": {},
   "outputs": [],
   "source": [
    "from torch.utils.data import DataLoader\n",
    "from functools import partial\n",
    "collate_fn = partial(textgen.collate_fn, \n",
    "                     src_pad=posts_vocab.stoi[\"<PAD>\"], \n",
    "                     tgt_pad=comments_vocab.stoi[\"<PAD>\"])"
   ]
  },
  {
   "cell_type": "code",
   "execution_count": 15,
   "metadata": {},
   "outputs": [],
   "source": [
    "xx, yy = next(iter(DataLoader(toxic_data, batch_size=2, collate_fn=collate_fn)))"
   ]
  },
  {
   "cell_type": "code",
   "execution_count": 16,
   "metadata": {},
   "outputs": [],
   "source": [
    "model = textgen.ToxicCommentModel(posts_vocab, comments_vocab)\n",
    "out = model(xx, yy)"
   ]
  },
  {
   "cell_type": "code",
   "execution_count": 17,
   "metadata": {},
   "outputs": [
    {
     "data": {
      "text/plain": [
       "torch.Size([2, 5, 1468])"
      ]
     },
     "execution_count": 17,
     "metadata": {},
     "output_type": "execute_result"
    }
   ],
   "source": [
    "out.shape"
   ]
  },
  {
   "cell_type": "code",
   "execution_count": 18,
   "metadata": {},
   "outputs": [],
   "source": [
    "loss_fn = nn.CrossEntropyLoss()\n",
    "adam = optim.Adam(model.parameters(), lr=0.1)\n",
    "loss_vec = []"
   ]
  },
  {
   "cell_type": "code",
   "execution_count": 19,
   "metadata": {},
   "outputs": [
    {
     "data": {
      "application/vnd.jupyter.widget-view+json": {
       "model_id": "704695129d10420dbb620adeb336d2da",
       "version_major": 2,
       "version_minor": 0
      },
      "text/plain": [
       "HBox(children=(IntProgress(value=0, max=20), HTML(value='')))"
      ]
     },
     "metadata": {},
     "output_type": "display_data"
    },
    {
     "name": "stdout",
     "output_type": "stream",
     "text": [
      "\n"
     ]
    }
   ],
   "source": [
    "n_epoch = 20\n",
    "for epoch_i in tqdm(range(n_epoch)):\n",
    "    loss_epoch = []\n",
    "    for src_batch, tgt_batch in DataLoader(toxic_data, batch_size=10, collate_fn=collate_fn):\n",
    "        model = textgen.ToxicCommentModel(posts_vocab, comments_vocab)\n",
    "        out = model(xx, yy)\n",
    "        loss = loss_fn(out.view(*out.shape[1:], out.shape[0]), yy.view(yy.shape[1], -1))    \n",
    "        loss_epoch.append(loss.item())\n",
    "\n",
    "        adam.zero_grad()\n",
    "        loss.backward()\n",
    "        adam.step()\n",
    "    loss_vec.append(np.mean(loss_epoch))\n",
    "    "
   ]
  },
  {
   "cell_type": "code",
   "execution_count": 20,
   "metadata": {},
   "outputs": [
    {
     "data": {
      "text/plain": [
       "[<matplotlib.lines.Line2D at 0x27f3e092c88>]"
      ]
     },
     "execution_count": 20,
     "metadata": {},
     "output_type": "execute_result"
    },
    {
     "data": {
      "image/png": "[encoded data removed]",
      "text/plain": [
       "<Figure size 432x288 with 1 Axes>"
      ]
     },
     "metadata": {
      "needs_background": "light"
     },
     "output_type": "display_data"
    }
   ],
   "source": [
    "from matplotlib import pyplot as plt\n",
    "plt.plot(loss_vec)"
   ]
  },
  {
   "cell_type": "code",
   "execution_count": 46,
   "metadata": {},
   "outputs": [],
   "source": []
  },
  {
   "cell_type": "code",
   "execution_count": 74,
   "metadata": {},
   "outputs": [
    {
     "name": "stdout",
     "output_type": "stream",
     "text": [
      "ans:  <SOS>/輸不起的/台女/噁心/<EOS>\n",
      "gen:  /給予/2020總統大選入場卷！/受夠你四年執政，如果再四年給你執政/多P\n"
     ]
    }
   ],
   "source": [
    "out = model(xx, yy)\n",
    "print(\"ans: \", \"/\".join(comments_vocab.to_texts(yy.tolist()[1])))\n",
    "print(\"gen: \", \"/\".join(comments_vocab.to_texts(out.argmax(2).numpy().tolist()[1])))"
   ]
  },
  {
   "cell_type": "code",
   "execution_count": 19,
   "metadata": {},
   "outputs": [
    {
     "data": {
      "text/plain": [
       "['蔡小英',\n",
       " '蔡小英',\n",
       " '蔡小英',\n",
       " '蔡小英',\n",
       " '蔡小英',\n",
       " '蔡小英',\n",
       " '蔡小英',\n",
       " '蔡小英',\n",
       " '蔡小英',\n",
       " '蔡小英',\n",
       " '蔡小英',\n",
       " '蔡小英',\n",
       " '蔡小英',\n",
       " '蔡小英',\n",
       " '蔡小英',\n",
       " '蔡小英',\n",
       " '蔡小英',\n",
       " '蔡小英',\n",
       " '蔡小英',\n",
       " '蔡小英']"
      ]
     },
     "execution_count": 19,
     "metadata": {},
     "output_type": "execute_result"
    }
   ],
   "source": []
  },
  {
   "cell_type": "code",
   "execution_count": 189,
   "metadata": {},
   "outputs": [],
   "source": [
    "emb = model.embed(xx)"
   ]
  },
  {
   "cell_type": "code",
   "execution_count": 190,
   "metadata": {},
   "outputs": [
    {
     "data": {
      "text/plain": [
       "torch.Size([2, 3, 300])"
      ]
     },
     "execution_count": 190,
     "metadata": {},
     "output_type": "execute_result"
    }
   ],
   "source": [
    "emb.shape"
   ]
  },
  {
   "cell_type": "code",
   "execution_count": 191,
   "metadata": {},
   "outputs": [
    {
     "data": {
      "text/plain": [
       "tensor([[[[0.0000]],\n",
       "\n",
       "         [[0.0000]],\n",
       "\n",
       "         [[0.0000]],\n",
       "\n",
       "         [[0.0510]],\n",
       "\n",
       "         [[0.1459]],\n",
       "\n",
       "         [[0.0000]],\n",
       "\n",
       "         [[0.0000]],\n",
       "\n",
       "         [[0.0405]],\n",
       "\n",
       "         [[0.1414]],\n",
       "\n",
       "         [[0.0000]],\n",
       "\n",
       "         [[0.0057]],\n",
       "\n",
       "         [[0.1552]],\n",
       "\n",
       "         [[0.1536]],\n",
       "\n",
       "         [[0.0000]],\n",
       "\n",
       "         [[0.1265]],\n",
       "\n",
       "         [[0.0000]],\n",
       "\n",
       "         [[0.0000]],\n",
       "\n",
       "         [[0.0740]],\n",
       "\n",
       "         [[0.1071]],\n",
       "\n",
       "         [[0.0000]]],\n",
       "\n",
       "\n",
       "        [[[0.0000]],\n",
       "\n",
       "         [[0.0000]],\n",
       "\n",
       "         [[0.0000]],\n",
       "\n",
       "         [[0.0510]],\n",
       "\n",
       "         [[0.1459]],\n",
       "\n",
       "         [[0.0000]],\n",
       "\n",
       "         [[0.0000]],\n",
       "\n",
       "         [[0.0405]],\n",
       "\n",
       "         [[0.1414]],\n",
       "\n",
       "         [[0.0000]],\n",
       "\n",
       "         [[0.0057]],\n",
       "\n",
       "         [[0.1552]],\n",
       "\n",
       "         [[0.1536]],\n",
       "\n",
       "         [[0.0000]],\n",
       "\n",
       "         [[0.1265]],\n",
       "\n",
       "         [[0.0000]],\n",
       "\n",
       "         [[0.0000]],\n",
       "\n",
       "         [[0.0740]],\n",
       "\n",
       "         [[0.1071]],\n",
       "\n",
       "         [[0.0000]]]], grad_fn=<ReluBackward0>)"
      ]
     },
     "execution_count": 191,
     "metadata": {},
     "output_type": "execute_result"
    }
   ],
   "source": [
    "model.conv1(emb.unsqueeze(1))"
   ]
  },
  {
   "cell_type": "code",
   "execution_count": null,
   "metadata": {},
   "outputs": [],
   "source": []
  }
 ],
 "metadata": {
  "kernelspec": {
   "display_name": "Python 3",
   "language": "python",
   "name": "python3"
  },
  "language_info": {
   "codemirror_mode": {
    "name": "ipython",
    "version": 3
   },
   "file_extension": ".py",
   "mimetype": "text/x-python",
   "name": "python",
   "nbconvert_exporter": "python",
   "pygments_lexer": "ipython3",
   "version": "3.7.2"
  }
 },
 "nbformat": 4,
 "nbformat_minor": 2
}
