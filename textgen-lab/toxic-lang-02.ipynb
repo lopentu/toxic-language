{
 "cells": [
  {
   "cell_type": "code",
   "execution_count": 1,
   "metadata": {},
   "outputs": [],
   "source": [
    "%load_ext autoreload\n",
    "%autoreload 2\n",
    "%matplotlib inline"
   ]
  },
  {
   "cell_type": "code",
   "execution_count": 2,
   "metadata": {},
   "outputs": [],
   "source": [
    "import sys\n",
    "sys.path.append(\"../\")"
   ]
  },
  {
   "cell_type": "code",
   "execution_count": 3,
   "metadata": {},
   "outputs": [],
   "source": [
    "import pickle\n",
    "from itertools import chain\n",
    "import numpy as np\n",
    "import pandas as pd\n",
    "from tqdm import tqdm_notebook as tqdm\n",
    "import matplotlib.pyplot as plt"
   ]
  },
  {
   "cell_type": "code",
   "execution_count": 4,
   "metadata": {},
   "outputs": [],
   "source": [
    "import textgen"
   ]
  },
  {
   "cell_type": "markdown",
   "metadata": {},
   "source": [
    "## Load data"
   ]
  },
  {
   "cell_type": "code",
   "execution_count": 5,
   "metadata": {},
   "outputs": [],
   "source": [
    "comments_path = textgen.get_resource_path(\"toxicity-data-merged-comments-05251530.csv\")\n",
    "comments = pd.read_csv(comments_path, index_col=0)\n",
    "posts_path = textgen.get_resource_path(\"toxicity-data-merged-posts-05251530.csv\")\n",
    "posts = pd.read_csv(posts_path, index_col=0)"
   ]
  },
  {
   "cell_type": "code",
   "execution_count": 6,
   "metadata": {},
   "outputs": [],
   "source": [
    "def load_pretrained_wv(fpath):\n",
    "    with open(fpath, \"rb\") as fin:\n",
    "        (itos, stoi, vectors) = pickle.load(fin)\n",
    "        src_vocab = textgen.Vocabulary(itos, stoi, vectors)\n",
    "    return src_vocab\n",
    "posts_vocab = load_pretrained_wv(textgen.get_resource_path(\"word_vectors.pkl\"))"
   ]
  },
  {
   "cell_type": "code",
   "execution_count": 7,
   "metadata": {},
   "outputs": [],
   "source": [
    "chunks = [x for x in chain.from_iterable([x.split(\"\\\\\") for x in comments.CommentContent.tolist()])]"
   ]
  },
  {
   "cell_type": "code",
   "execution_count": 8,
   "metadata": {},
   "outputs": [],
   "source": [
    "comments_vocab = textgen.Vocabulary()\n",
    "comments_vocab.build_vocabulary(chunks)"
   ]
  },
  {
   "cell_type": "code",
   "execution_count": 10,
   "metadata": {},
   "outputs": [
    {
     "data": {
      "text/plain": [
       "(<Vocabulary: 27074 items, emb dim: (27074, 300)>, <Vocabulary: 1468 items>)"
      ]
     },
     "execution_count": 10,
     "metadata": {},
     "output_type": "execute_result"
    }
   ],
   "source": [
    "vocab_path = textgen.get_data_path(\"vocab.pkl\")\n",
    "with open(vocab_path, \"wb\") as fout:\n",
    "    pickle.dump((posts_vocab, comments_vocab), fout)\n",
    "posts_vocab, comments_vocab"
   ]
  },
  {
   "cell_type": "code",
   "execution_count": 11,
   "metadata": {},
   "outputs": [
    {
     "name": "stderr",
     "output_type": "stream",
     "text": [
      "Building prefix dict from the default dictionary ...\n",
      "Loading model from cache C:\\Users\\seantyh\\AppData\\Local\\Temp\\jieba.cache\n",
      "Loading model cost 0.652 seconds.\n",
      "Prefix dict has been built succesfully.\n"
     ]
    },
    {
     "name": "stdout",
     "output_type": "stream",
     "text": [
      "Cannot find gayo01\n",
      "Cannot find gayo01\n",
      "Cannot find gayo01\n"
     ]
    }
   ],
   "source": [
    "toxic_data = textgen.ToxicDataset(posts, comments, posts_vocab, comments_vocab)\n",
    "toxic_data_path = textgen.get_data_path(\"toxic_data.pkl\")\n",
    "toxic_data.save(toxic_data_path)"
   ]
  },
  {
   "cell_type": "code",
   "execution_count": 12,
   "metadata": {},
   "outputs": [
    {
     "data": {
      "text/plain": [
       "<ToxicDataset: 240 samples>"
      ]
     },
     "execution_count": 12,
     "metadata": {},
     "output_type": "execute_result"
    }
   ],
   "source": [
    "toxic_data_path = textgen.get_data_path(\"toxic_data.pkl\")\n",
    "toxic_data = textgen.ToxicDataset.load(toxic_data_path)\n",
    "toxic_data"
   ]
  },
  {
   "cell_type": "markdown",
   "metadata": {},
   "source": [
    "## Batching Data"
   ]
  },
  {
   "cell_type": "code",
   "execution_count": 19,
   "metadata": {},
   "outputs": [],
   "source": [
    "import torch\n",
    "import torch.nn.functional as F\n",
    "import torch.nn as nn\n",
    "import torch.optim as optim"
   ]
  },
  {
   "cell_type": "code",
   "execution_count": 20,
   "metadata": {},
   "outputs": [],
   "source": [
    "from torch.utils.data import DataLoader\n",
    "from functools import partial\n",
    "collate_fn = partial(textgen.collate_fn, \n",
    "                     src_pad=posts_vocab.stoi[\"<PAD>\"], \n",
    "                     tgt_pad=comments_vocab.stoi[\"<PAD>\"])"
   ]
  },
  {
   "cell_type": "code",
   "execution_count": 21,
   "metadata": {},
   "outputs": [],
   "source": [
    "xx, yy = next(iter(DataLoader(toxic_data, batch_size=2, collate_fn=collate_fn)))"
   ]
  },
  {
   "cell_type": "code",
   "execution_count": 22,
   "metadata": {},
   "outputs": [
    {
     "data": {
      "text/plain": [
       "device(type='cuda')"
      ]
     },
     "execution_count": 22,
     "metadata": {},
     "output_type": "execute_result"
    }
   ],
   "source": [
    "USE_CUDA = True\n",
    "if torch.cuda.is_available() and USE_CUDA:\n",
    "    device = torch.device('cuda')\n",
    "else:\n",
    "    device = torch.device('cpu')\n",
    "device"
   ]
  },
  {
   "cell_type": "code",
   "execution_count": 23,
   "metadata": {},
   "outputs": [],
   "source": [
    "loss_fn = nn.CrossEntropyLoss()\n",
    "model = textgen.ToxicCommentModel(posts_vocab, comments_vocab, device)\n",
    "model = model.to(device)\n",
    "adam = optim.Adam(model.parameters(), lr=1e-2)\n",
    "loss_vec = []\n",
    "acc_vec = []"
   ]
  },
  {
   "cell_type": "code",
   "execution_count": 31,
   "metadata": {},
   "outputs": [
    {
     "data": {
      "application/vnd.jupyter.widget-view+json": {
       "model_id": "860590d592f34af7ae0941014a42faf3",
       "version_major": 2,
       "version_minor": 0
      },
      "text/plain": [
       "HBox(children=(IntProgress(value=0, max=300), HTML(value='')))"
      ]
     },
     "metadata": {},
     "output_type": "display_data"
    },
    {
     "name": "stdout",
     "output_type": "stream",
     "text": [
      "\n"
     ]
    }
   ],
   "source": [
    "from itertools import islice\n",
    "n_epoch = 300\n",
    "model.train()\n",
    "for epoch_i in tqdm(range(n_epoch)):\n",
    "    acc_epoch = []\n",
    "    loss_epoch = []\n",
    "    loader = DataLoader(toxic_data, batch_size=30, \n",
    "                        collate_fn=collate_fn)\n",
    "    for src_batch, tgt_batch in loader:      \n",
    "        src_batch = src_batch.to(device)\n",
    "        tgt_batch = tgt_batch.to(device)\n",
    "        out = model(src_batch, tgt_batch)\n",
    "        loss = loss_fn(out.permute(1,2,0), tgt_batch.permute(1, 0))    \n",
    "        loss_epoch.append(loss.item())\n",
    "        \n",
    "        out_seq = out.argmax(2).detach().cpu().numpy()\n",
    "        tgt_seq = tgt_batch.detach().cpu().numpy()\n",
    "        acc_seq = [textgen.get_seq_overlap(out_seq[i], tgt_seq[i], comments_vocab) \n",
    "                   for i in range(len(tgt_seq))]\n",
    "        acc = np.mean(acc_seq)\n",
    "        acc_epoch.append(acc)\n",
    "        \n",
    "        adam.zero_grad()\n",
    "        loss.backward()\n",
    "        adam.step()\n",
    "    loss_vec.append(np.sum(loss_epoch))\n",
    "    acc_vec.append(np.mean(acc_epoch))\n",
    "    "
   ]
  },
  {
   "cell_type": "code",
   "execution_count": 32,
   "metadata": {},
   "outputs": [
    {
     "data": {
      "text/plain": [
       "[<matplotlib.lines.Line2D at 0x288a6818c18>]"
      ]
     },
     "execution_count": 32,
     "metadata": {},
     "output_type": "execute_result"
    },
    {
     "data": {
      "image/png": "[encoded data removed]",
      "text/plain": [
       "<Figure size 432x288 with 2 Axes>"
      ]
     },
     "metadata": {
      "needs_background": "light"
     },
     "output_type": "display_data"
    }
   ],
   "source": [
    "fig, axes = plt.subplots(1,2)\n",
    "axes[0].plot(loss_vec)\n",
    "axes[1].plot(acc_vec)"
   ]
  },
  {
   "cell_type": "code",
   "execution_count": 33,
   "metadata": {},
   "outputs": [],
   "source": [
    "model_path = textgen.get_data_path(\"toxic-model-max-30-200.pt\")\n",
    "\n",
    "torch.save(model.state_dict(), model_path)"
   ]
  },
  {
   "cell_type": "code",
   "execution_count": 125,
   "metadata": {},
   "outputs": [
    {
     "data": {
      "text/plain": [
       "['【冥主奧步洞】',\n",
       " '不然',\n",
       " '繼續貸款金主',\n",
       " '難到要拿 芭樂 護台灣？',\n",
       " '難到要拿 芭樂 護台灣？',\n",
       " '何止與惡零距離，',\n",
       " '【冥主奧步洞】',\n",
       " '那收錢收到手軟',\n",
       " '那收錢收到手軟',\n",
       " '好幾年前的文章',\n",
       " '好幾年前的文章',\n",
       " '好幾年前的文章']"
      ]
     },
     "execution_count": 125,
     "metadata": {},
     "output_type": "execute_result"
    }
   ],
   "source": [
    "model.eval()\n",
    "cpu_model = model.to(torch.device('cpu'))\n",
    "xx = torch.LongTensor(textgen.convert_text(\"今天是星期三\", posts_vocab))\n",
    "out = cpu_model(xx, yy)\n",
    "out = out.cpu().argmax(2).numpy()\n",
    "textgen.inverse_convert_comment(out[0], comments_vocab)\n",
    "# comments_vocab.stoi[\"<EOS>\"]\n",
    "# comments_vocab.itos[1464]"
   ]
  }
 ],
 "metadata": {
  "kernelspec": {
   "display_name": "Python 3",
   "language": "python",
   "name": "python3"
  },
  "language_info": {
   "codemirror_mode": {
    "name": "ipython",
    "version": 3
   },
   "file_extension": ".py",
   "mimetype": "text/x-python",
   "name": "python",
   "nbconvert_exporter": "python",
   "pygments_lexer": "ipython3",
   "version": "3.7.2"
  }
 },
 "nbformat": 4,
 "nbformat_minor": 2
}
